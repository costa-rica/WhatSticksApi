{
 "cells": [
  {
   "cell_type": "code",
   "execution_count": 1,
   "id": "ca75322c",
   "metadata": {},
   "outputs": [
    {
     "name": "stderr",
     "output_type": "stream",
     "text": [
      "C:\\tools\\miniconda3\\envs\\whatSticks\\lib\\site-packages\\flask_sqlalchemy\\__init__.py:872: FSADeprecationWarning: SQLALCHEMY_TRACK_MODIFICATIONS adds significant overhead and will be disabled by default in the future.  Set it to True or False to suppress this warning.\n",
      "  warnings.warn(FSADeprecationWarning(\n"
     ]
    }
   ],
   "source": [
    "import json;import datetime;from datetime import timedelta;import os, zipfile;\n",
    "import pandas as pd\n",
    "from sqlalchemy import func\n",
    "from flask_bcrypt import Bcrypt\n",
    "import requests\n",
    "\n",
    "import sys\n",
    "sys.path.append(r\"D:/OneDrive/Documents/professional/20210902whatSticksWebApp\")\n",
    "from whatSticksWebApp import create_app, db\n",
    "from whatSticksWebApp.models import User, Post, Health_description, Health_measure\n",
    "proxyApp=create_app()\n",
    "ctx=proxyApp.app_context()\n",
    "ctx.push()"
   ]
  },
  {
   "cell_type": "code",
   "execution_count": 2,
   "id": "bfc96ba2",
   "metadata": {},
   "outputs": [
    {
     "data": {
      "text/plain": [
       "b'{\\n  \"API_status\": \"All systems go\"\\n}\\n'"
      ]
     },
     "execution_count": 2,
     "metadata": {},
     "output_type": "execute_result"
    }
   ],
   "source": [
    "url='http://localhost:5000/are_we_working'\n",
    "response=requests.request('GET', url)\n",
    "response.content"
   ]
  },
  {
   "cell_type": "code",
   "execution_count": 3,
   "id": "5501b5e9",
   "metadata": {},
   "outputs": [
    {
     "data": {
      "text/plain": [
       "{'API_status': 'All systems go'}"
      ]
     },
     "execution_count": 3,
     "metadata": {},
     "output_type": "execute_result"
    }
   ],
   "source": [
    "json.loads(response.content.decode('utf-8'))"
   ]
  },
  {
   "cell_type": "code",
   "execution_count": 4,
   "id": "c10220c0",
   "metadata": {},
   "outputs": [],
   "source": [
    "health_descriptions = Health_description.query.all()"
   ]
  },
  {
   "cell_type": "code",
   "execution_count": 7,
   "id": "bf52c9a5",
   "metadata": {},
   "outputs": [],
   "source": [
    "health_descriptions_1=Health_description.query.filter(Health_description.user_id==1).all()\n",
    "# health_descriptions_1"
   ]
  },
  {
   "cell_type": "code",
   "execution_count": 9,
   "id": "4dcd4c59",
   "metadata": {},
   "outputs": [
    {
     "data": {
      "text/plain": [
       "254"
      ]
     },
     "execution_count": 9,
     "metadata": {},
     "output_type": "execute_result"
    }
   ],
   "source": [
    "len(health_descriptions_1)"
   ]
  },
  {
   "cell_type": "code",
   "execution_count": 17,
   "id": "526aa287",
   "metadata": {},
   "outputs": [
    {
     "data": {
      "text/plain": [
       "b'{\"API_status\":\"All systems go\"}\\n'"
      ]
     },
     "execution_count": 17,
     "metadata": {},
     "output_type": "execute_result"
    }
   ],
   "source": [
    "url='https://api.what-sticks-health.com/are_we_working'\n",
    "response=requests.request('GET', url)\n",
    "response.content"
   ]
  },
  {
   "cell_type": "code",
   "execution_count": 19,
   "id": "16b2f20c",
   "metadata": {},
   "outputs": [
    {
     "data": {
      "text/plain": [
       "200"
      ]
     },
     "execution_count": 19,
     "metadata": {},
     "output_type": "execute_result"
    }
   ],
   "source": [
    "url=\"https://api.what-sticks-health.com/get_users\"\n",
    "user_email='nickapeed@yahoo.com';user_password='test'\n",
    "response=requests.request(\"GET\", url,auth=(user_email, user_password))\n",
    "response.status_code"
   ]
  },
  {
   "cell_type": "code",
   "execution_count": null,
   "id": "46a4bdf2",
   "metadata": {},
   "outputs": [],
   "source": []
  },
  {
   "cell_type": "code",
   "execution_count": null,
   "id": "b40e701e",
   "metadata": {},
   "outputs": [],
   "source": []
  },
  {
   "cell_type": "code",
   "execution_count": null,
   "id": "d920a52d",
   "metadata": {},
   "outputs": [],
   "source": [
    "#Add activity"
   ]
  },
  {
   "cell_type": "code",
   "execution_count": null,
   "id": "ddf8a36d",
   "metadata": {},
   "outputs": [],
   "source": [
    "payload1={}\n",
    "payload1['datetime_of_activity']='2021-08-18T15:31:00'\n",
    "payload1[\"note\"]= \"from postman test format\"\n",
    "payload1[\"source_filename\"]= \"phone application\"\n",
    "payload1[\"time_stamp_utc\"]= \"2021-08-29T14:04:07.567861\"\n",
    "payload1[\"user_id\"]= 1\n",
    "payload1[\"var_activity\"]= \"msg from Jup Notebook\"\n",
    "payload1[\"var_timezone_utc_delta_in_mins\"]= 120\n",
    "payload1[\"var_type\"]= \"Activity\"\n",
    "\n",
    "headers1={}\n",
    "headers1['Content-Type']='application/json'\n",
    "type(json.dumps(payload1))"
   ]
  },
  {
   "cell_type": "code",
   "execution_count": null,
   "id": "8656ca34",
   "metadata": {},
   "outputs": [],
   "source": [
    "#POST request\n",
    "url=\"http://api.life-buddy.org/add_activity\"\n",
    "user_email='nickapeed@yahoo.com';user_password='test'\n",
    "response = requests.request(\"POST\", url, headers=headers1, data=str(json.dumps(payload1)),auth=(user_email, user_password))\n",
    "print(response.status_code)"
   ]
  },
  {
   "cell_type": "code",
   "execution_count": null,
   "id": "de33e756",
   "metadata": {},
   "outputs": [],
   "source": []
  },
  {
   "cell_type": "code",
   "execution_count": null,
   "id": "74ec0be5",
   "metadata": {},
   "outputs": [],
   "source": []
  },
  {
   "cell_type": "code",
   "execution_count": null,
   "id": "33e23af0",
   "metadata": {},
   "outputs": [],
   "source": []
  },
  {
   "cell_type": "code",
   "execution_count": null,
   "id": "4e64fc24",
   "metadata": {},
   "outputs": [],
   "source": []
  }
 ],
 "metadata": {
  "kernelspec": {
   "display_name": "Python 3",
   "language": "python",
   "name": "python3"
  },
  "language_info": {
   "codemirror_mode": {
    "name": "ipython",
    "version": 3
   },
   "file_extension": ".py",
   "mimetype": "text/x-python",
   "name": "python",
   "nbconvert_exporter": "python",
   "pygments_lexer": "ipython3",
   "version": "3.9.5"
  }
 },
 "nbformat": 4,
 "nbformat_minor": 5
}
